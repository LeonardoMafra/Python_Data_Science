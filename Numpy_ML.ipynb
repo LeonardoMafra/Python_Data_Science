{
  "nbformat": 4,
  "nbformat_minor": 0,
  "metadata": {
    "colab": {
      "provenance": [],
      "authorship_tag": "ABX9TyPmxIDbNyIfTp+nXab9+70L",
      "include_colab_link": true
    },
    "kernelspec": {
      "name": "python3",
      "display_name": "Python 3"
    },
    "language_info": {
      "name": "python"
    }
  },
  "cells": [
    {
      "cell_type": "markdown",
      "metadata": {
        "id": "view-in-github",
        "colab_type": "text"
      },
      "source": [
        "<a href=\"https://colab.research.google.com/github/LeonardoMafra/Python_Data_Science/blob/main/Numpy_ML.ipynb\" target=\"_parent\"><img src=\"https://colab.research.google.com/assets/colab-badge.svg\" alt=\"Open In Colab\"/></a>"
      ]
    },
    {
      "cell_type": "code",
      "execution_count": 8,
      "metadata": {
        "id": "Sqf-8YOAmGv5"
      },
      "outputs": [],
      "source": [
        "#Libraries\n",
        "\n",
        "import numpy as np"
      ]
    },
    {
      "cell_type": "code",
      "source": [
        "#pesos\n",
        "\n",
        "w1,w2,w3 = 0.3, 0.2, 0.5\n",
        "\n",
        "print(w1,w2,w3)\n",
        "\n"
      ],
      "metadata": {
        "colab": {
          "base_uri": "https://localhost:8080/"
        },
        "id": "8Z-nEmDdtwvA",
        "outputId": "edb853e0-17b7-4bca-aa45-64b198e1f59c"
      },
      "execution_count": 4,
      "outputs": [
        {
          "output_type": "stream",
          "name": "stdout",
          "text": [
            "0.3 0.2 0.5\n"
          ]
        }
      ]
    },
    {
      "cell_type": "code",
      "source": [
        "#dados climaticos da regiao A\n",
        "\n",
        "regiaoA_temp = 22\n",
        "regiaoA_chuva = 67\n",
        "regiaoA_umidade = 65"
      ],
      "metadata": {
        "id": "LFaHOrSr1DxJ"
      },
      "execution_count": 2,
      "outputs": []
    },
    {
      "cell_type": "code",
      "source": [
        "#aplicação do modelo\n",
        "\n",
        "regiaoA_goiaba = (regiaoA_temp * w1) + (regiaoA_chuva * w2) +  (regiaoA_umidade * w3)\n",
        "\n",
        "print(f'Na regiao A a producao de goiaba foi de {regiaoA_goiaba} toneladas por hectare.')"
      ],
      "metadata": {
        "colab": {
          "base_uri": "https://localhost:8080/"
        },
        "id": "kPo3fb2F8g7i",
        "outputId": "1b7edfc9-01b1-4f83-8210-d3636f91d8b6"
      },
      "execution_count": 6,
      "outputs": [
        {
          "output_type": "stream",
          "name": "stdout",
          "text": [
            "Na regiao A a producao de goiaba foi de 52.5 toneladas por hectare.\n"
          ]
        }
      ]
    },
    {
      "cell_type": "code",
      "source": [
        "#Lista com os valores de temperatura, chuva e umidade\n",
        "regiaoA =[22,67,65]\n",
        "regiaoB =[24,88,95]\n",
        "regiaoC =[17,134,50]\n",
        "regiaoD=[18,96,70]\n",
        "\n"
      ],
      "metadata": {
        "id": "dfx2gLxSANU6"
      },
      "execution_count": 16,
      "outputs": []
    },
    {
      "cell_type": "code",
      "source": [
        "#lista com os valores dos pesos para os calculos\n",
        "pesos = [w1,w2,w3]"
      ],
      "metadata": {
        "id": "N_dr4PftBelC"
      },
      "execution_count": 15,
      "outputs": []
    },
    {
      "cell_type": "code",
      "source": [
        "#Funcao para realizar o calculo da produção de goiaba por hectare\n",
        "def producao_goiaba(regiao, pesos):\n",
        "  result = 0\n",
        "  for x, w in zip(regiao,pesos):\n",
        "    result += x * w\n",
        "  return result"
      ],
      "metadata": {
        "id": "rtRUBH7EDip7"
      },
      "execution_count": 38,
      "outputs": []
    },
    {
      "cell_type": "code",
      "source": [
        "#Producao por hectare na regiao A\n",
        "\n",
        "print(f'A producao pro hectare na regiao A foi de: {producao_goiaba(regiaoA,pesos)} toneladas')\n",
        "\n",
        "#Producao por hectare na regiao B\n",
        "\n",
        "print(f'A producao pro hectare na regiao B foi de: {producao_goiaba(regiaoB,pesos)} toneladas')\n",
        "\n",
        "#Producao por hectare na regiao C\n",
        "\n",
        "print(f'A producao pro hectare na regiao C foi de: {producao_goiaba(regiaoC,pesos)} toneladas')\n",
        "\n",
        "#Producao por hectare na regiao D\n",
        "\n",
        "print(f'A producao pro hectare na regiao D foi de: {producao_goiaba(regiaoD,pesos)} toneladas')"
      ],
      "metadata": {
        "colab": {
          "base_uri": "https://localhost:8080/"
        },
        "id": "lsX2U_VBKLRL",
        "outputId": "3a2cfbe5-b74f-413a-d103-a1a649a10beb"
      },
      "execution_count": 44,
      "outputs": [
        {
          "output_type": "stream",
          "name": "stdout",
          "text": [
            "A producao pro hectare na regiao A foi de: 52.5 toneladas\n",
            "A producao pro hectare na regiao B foi de: 72.3 toneladas\n",
            "A producao pro hectare na regiao C foi de: 56.9 toneladas\n",
            "A producao pro hectare na regiao D foi de: 59.6 toneladas\n"
          ]
        }
      ]
    },
    {
      "cell_type": "code",
      "source": [
        "#USANDO O NUMPY\n"
      ],
      "metadata": {
        "id": "e_-aoFWbSX7S"
      },
      "execution_count": null,
      "outputs": []
    },
    {
      "cell_type": "code",
      "source": [
        "#definindo as regioes e os pesos com np.array([])\n",
        "\n",
        "regiaoA = np.array([22,67,65])\n",
        "regiaoB = np.array([24,88,95])\n",
        "regiaoC = np.array([17,134,50])\n",
        "regiaoD = np.array([18,96,70])\n",
        "pesos = np.array([w1,w2,w3])\n",
        "\n",
        "\n",
        "print(type(regiaoA))\n",
        "print(type(pesos))\n",
        "\n"
      ],
      "metadata": {
        "colab": {
          "base_uri": "https://localhost:8080/"
        },
        "id": "DrsMXdOFSanf",
        "outputId": "51091c7b-19db-4353-bb8a-a7604ad09e22"
      },
      "execution_count": 48,
      "outputs": [
        {
          "output_type": "stream",
          "name": "stdout",
          "text": [
            "<class 'numpy.ndarray'>\n",
            "<class 'numpy.ndarray'>\n"
          ]
        }
      ]
    },
    {
      "cell_type": "code",
      "source": [
        "# realizando calculo usando as função np.dot\n",
        "\n",
        "reg_a = np.dot(regiaoA,pesos)\n",
        "reg_b = np.dot(regiaoB,pesos)\n",
        "reg_c = np.dot(regiaoC,pesos)\n",
        "reg_d = np.dot(regiaoD,pesos)\n",
        "\n",
        "print(f'A producao pro hectare na regiao A foi de: {reg_a} toneladas')\n",
        "print(f'A producao pro hectare na regiao B foi de: {reg_b} toneladas')\n",
        "print(f'A producao pro hectare na regiao C foi de: {reg_c} toneladas')\n",
        "print(f'A producao pro hectare na regiao D foi de: {reg_d} toneladas')"
      ],
      "metadata": {
        "colab": {
          "base_uri": "https://localhost:8080/"
        },
        "id": "0znQYDnoXdVx",
        "outputId": "5944f747-a394-44f7-b33f-d23d06c72a34"
      },
      "execution_count": 50,
      "outputs": [
        {
          "output_type": "stream",
          "name": "stdout",
          "text": [
            "A producao pro hectare na regiao A foi de: 52.5 toneladas\n",
            "A producao pro hectare na regiao B foi de: 72.3 toneladas\n",
            "A producao pro hectare na regiao C foi de: 56.9 toneladas\n",
            "A producao pro hectare na regiao D foi de: 59.6 toneladas\n"
          ]
        }
      ]
    },
    {
      "cell_type": "code",
      "source": [
        "# Exemplos em Numpy\n",
        "\n",
        "#lista em python\n",
        "\n",
        "arr1 = list(range(2000000))\n",
        "arr2 = list(range(1000000,3000000))\n",
        "\n",
        "#vetor em Numpy\n",
        "\n",
        "arr1_np = np.array(arr1)\n",
        "arr2_np = np.array(arr2)\n",
        "\n"
      ],
      "metadata": {
        "id": "OdPKZvnYYVQe"
      },
      "execution_count": 55,
      "outputs": []
    },
    {
      "cell_type": "code",
      "source": [
        "#teste de tempo realizando o calculo normal\n",
        "\n",
        "%%time\n",
        "\n",
        "result = 0\n",
        "for x1,x2 in zip(arr1,arr2):\n",
        "  result += x1 * x2\n",
        "print(result)"
      ],
      "metadata": {
        "colab": {
          "base_uri": "https://localhost:8080/"
        },
        "id": "bQfkQMPYYQ33",
        "outputId": "d53e2f5b-5985-405a-e51f-f81ba62671f0"
      },
      "execution_count": 56,
      "outputs": [
        {
          "output_type": "stream",
          "name": "stdout",
          "text": [
            "4666663666667000000\n",
            "CPU times: user 773 ms, sys: 0 ns, total: 773 ms\n",
            "Wall time: 797 ms\n"
          ]
        }
      ]
    },
    {
      "cell_type": "code",
      "source": [
        "%%time\n",
        "print(np.dot(arr1_np, arr2_np))"
      ],
      "metadata": {
        "colab": {
          "base_uri": "https://localhost:8080/"
        },
        "id": "l_9C6XuvcRKJ",
        "outputId": "4496d777-d564-44ef-ca70-f797531fad23"
      },
      "execution_count": 57,
      "outputs": [
        {
          "output_type": "stream",
          "name": "stdout",
          "text": [
            "4666663666667000000\n",
            "CPU times: user 5.83 ms, sys: 0 ns, total: 5.83 ms\n",
            "Wall time: 4.85 ms\n"
          ]
        }
      ]
    },
    {
      "cell_type": "code",
      "source": [
        "# matriz com dos dados climaticos\n",
        "\n",
        "dados_climaticos = np.array([[22,67,65],\n",
        "                            [24,88,95],\n",
        "                            [17,134,50],\n",
        "                            [18,96,70]])\n",
        "\n",
        "print(dados_climaticos)\n",
        "\n",
        "print(dados_climaticos.shape) # retorna o tamanho do array\n",
        "print(pesos.shape) # retorna o tamanho do array\n",
        "\n",
        "print(pesos.dtype) # retorna o tipo do valor\n",
        "print('---------------------------')\n",
        "print(dados_climaticos.dtype) # retorna o tipo do valor"
      ],
      "metadata": {
        "colab": {
          "base_uri": "https://localhost:8080/"
        },
        "id": "HL46m-IUd-n4",
        "outputId": "fb877159-fd50-4ed5-e4cb-e1455434f243"
      },
      "execution_count": 66,
      "outputs": [
        {
          "output_type": "stream",
          "name": "stdout",
          "text": [
            "[[ 22  67  65]\n",
            " [ 24  88  95]\n",
            " [ 17 134  50]\n",
            " [ 18  96  70]]\n",
            "(4, 3)\n",
            "(3,)\n",
            "float64\n",
            "---------------------------\n",
            "int64\n"
          ]
        }
      ]
    },
    {
      "cell_type": "code",
      "source": [
        "#finalizando calculo da produção de goiaba em um unico calculo\n",
        "np.matmul(dados_climaticos,pesos)"
      ],
      "metadata": {
        "colab": {
          "base_uri": "https://localhost:8080/"
        },
        "id": "BZNMudxpeiN5",
        "outputId": "a01f4623-fa03-4b9b-8cc6-052dc841ceb8"
      },
      "execution_count": 67,
      "outputs": [
        {
          "output_type": "execute_result",
          "data": {
            "text/plain": [
              "array([52.5, 72.3, 56.9, 59.6])"
            ]
          },
          "metadata": {},
          "execution_count": 67
        }
      ]
    },
    {
      "cell_type": "code",
      "source": [
        "#finalizando calculo da produção de goiaba em um unico calculo\n",
        "dados_climaticos @ pesos"
      ],
      "metadata": {
        "colab": {
          "base_uri": "https://localhost:8080/"
        },
        "id": "-CR5sLUrjUTi",
        "outputId": "5a4455ac-ed0d-448c-9a04-601c539ade60"
      },
      "execution_count": 68,
      "outputs": [
        {
          "output_type": "execute_result",
          "data": {
            "text/plain": [
              "array([52.5, 72.3, 56.9, 59.6])"
            ]
          },
          "metadata": {},
          "execution_count": 68
        }
      ]
    }
  ]
}