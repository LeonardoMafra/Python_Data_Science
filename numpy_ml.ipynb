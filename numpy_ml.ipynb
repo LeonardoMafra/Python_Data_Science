{
  "nbformat": 4,
  "nbformat_minor": 0,
  "metadata": {
    "colab": {
      "provenance": [],
      "authorship_tag": "ABX9TyMYS1Zs4oIq8Sveyx/e1vD8",
      "include_colab_link": true
    },
    "kernelspec": {
      "name": "python3",
      "display_name": "Python 3"
    },
    "language_info": {
      "name": "python"
    }
  },
  "cells": [
    {
      "cell_type": "markdown",
      "metadata": {
        "id": "view-in-github",
        "colab_type": "text"
      },
      "source": [
        "<a href=\"https://colab.research.google.com/github/LeonardoMafra/Python_Data_Science/blob/main/numpy_ml.ipynb\" target=\"_parent\"><img src=\"https://colab.research.google.com/assets/colab-badge.svg\" alt=\"Open In Colab\"/></a>"
      ]
    },
    {
      "cell_type": "code",
      "execution_count": 3,
      "metadata": {
        "id": "Sqf-8YOAmGv5"
      },
      "outputs": [],
      "source": [
        "#Libraries\n",
        "\n",
        "import numpy as np\n",
        "import pandas as pd"
      ]
    },
    {
      "cell_type": "code",
      "source": [
        "#pesos\n",
        "\n",
        "w1,w2,w3 = 0.3, 0.2, 0.5\n",
        "\n",
        "print(w1,w2,w3)\n",
        "\n"
      ],
      "metadata": {
        "colab": {
          "base_uri": "https://localhost:8080/"
        },
        "id": "8Z-nEmDdtwvA",
        "outputId": "edb853e0-17b7-4bca-aa45-64b198e1f59c"
      },
      "execution_count": null,
      "outputs": [
        {
          "output_type": "stream",
          "name": "stdout",
          "text": [
            "0.3 0.2 0.5\n"
          ]
        }
      ]
    },
    {
      "cell_type": "code",
      "source": [
        "#dados climaticos da regiao A\n",
        "\n",
        "regiaoA_temp = 22\n",
        "regiaoA_chuva = 67\n",
        "regiaoA_umidade = 65"
      ],
      "metadata": {
        "id": "LFaHOrSr1DxJ"
      },
      "execution_count": null,
      "outputs": []
    },
    {
      "cell_type": "code",
      "source": [
        "#aplicação do modelo\n",
        "\n",
        "regiaoA_goiaba = (regiaoA_temp * w1) + (regiaoA_chuva * w2) +  (regiaoA_umidade * w3)\n",
        "\n",
        "print(f'Na regiao A a producao de goiaba foi de {regiaoA_goiaba} toneladas por hectare.')"
      ],
      "metadata": {
        "colab": {
          "base_uri": "https://localhost:8080/"
        },
        "id": "kPo3fb2F8g7i",
        "outputId": "1b7edfc9-01b1-4f83-8210-d3636f91d8b6"
      },
      "execution_count": null,
      "outputs": [
        {
          "output_type": "stream",
          "name": "stdout",
          "text": [
            "Na regiao A a producao de goiaba foi de 52.5 toneladas por hectare.\n"
          ]
        }
      ]
    },
    {
      "cell_type": "code",
      "source": [
        "#Lista com os valores de temperatura, chuva e umidade\n",
        "regiaoA =[22,67,65]\n",
        "regiaoB =[24,88,95]\n",
        "regiaoC =[17,134,50]\n",
        "regiaoD=[18,96,70]\n",
        "\n"
      ],
      "metadata": {
        "id": "dfx2gLxSANU6"
      },
      "execution_count": null,
      "outputs": []
    },
    {
      "cell_type": "code",
      "source": [
        "#lista com os valores dos pesos para os calculos\n",
        "pesos = [w1,w2,w3]"
      ],
      "metadata": {
        "id": "N_dr4PftBelC"
      },
      "execution_count": null,
      "outputs": []
    },
    {
      "cell_type": "code",
      "source": [
        "#Funcao para realizar o calculo da produção de goiaba por hectare\n",
        "def producao_goiaba(regiao, pesos):\n",
        "  result = 0\n",
        "  for x, w in zip(regiao,pesos):\n",
        "    result += x * w\n",
        "  return result"
      ],
      "metadata": {
        "id": "rtRUBH7EDip7"
      },
      "execution_count": null,
      "outputs": []
    },
    {
      "cell_type": "code",
      "source": [
        "#Producao por hectare na regiao A\n",
        "\n",
        "print(f'A producao pro hectare na regiao A foi de: {producao_goiaba(regiaoA,pesos)} toneladas')\n",
        "\n",
        "#Producao por hectare na regiao B\n",
        "\n",
        "print(f'A producao pro hectare na regiao B foi de: {producao_goiaba(regiaoB,pesos)} toneladas')\n",
        "\n",
        "#Producao por hectare na regiao C\n",
        "\n",
        "print(f'A producao pro hectare na regiao C foi de: {producao_goiaba(regiaoC,pesos)} toneladas')\n",
        "\n",
        "#Producao por hectare na regiao D\n",
        "\n",
        "print(f'A producao pro hectare na regiao D foi de: {producao_goiaba(regiaoD,pesos)} toneladas')"
      ],
      "metadata": {
        "colab": {
          "base_uri": "https://localhost:8080/"
        },
        "id": "lsX2U_VBKLRL",
        "outputId": "3a2cfbe5-b74f-413a-d103-a1a649a10beb"
      },
      "execution_count": null,
      "outputs": [
        {
          "output_type": "stream",
          "name": "stdout",
          "text": [
            "A producao pro hectare na regiao A foi de: 52.5 toneladas\n",
            "A producao pro hectare na regiao B foi de: 72.3 toneladas\n",
            "A producao pro hectare na regiao C foi de: 56.9 toneladas\n",
            "A producao pro hectare na regiao D foi de: 59.6 toneladas\n"
          ]
        }
      ]
    },
    {
      "cell_type": "code",
      "source": [
        "#USANDO O NUMPY\n"
      ],
      "metadata": {
        "id": "e_-aoFWbSX7S"
      },
      "execution_count": null,
      "outputs": []
    },
    {
      "cell_type": "code",
      "source": [
        "#definindo as regioes e os pesos com np.array([])\n",
        "\n",
        "regiaoA = np.array([22,67,65])\n",
        "regiaoB = np.array([24,88,95])\n",
        "regiaoC = np.array([17,134,50])\n",
        "regiaoD = np.array([18,96,70])\n",
        "pesos = np.array([w1,w2,w3])\n",
        "\n",
        "\n",
        "print(type(regiaoA))\n",
        "print(type(pesos))\n",
        "\n"
      ],
      "metadata": {
        "colab": {
          "base_uri": "https://localhost:8080/"
        },
        "id": "DrsMXdOFSanf",
        "outputId": "51091c7b-19db-4353-bb8a-a7604ad09e22"
      },
      "execution_count": null,
      "outputs": [
        {
          "output_type": "stream",
          "name": "stdout",
          "text": [
            "<class 'numpy.ndarray'>\n",
            "<class 'numpy.ndarray'>\n"
          ]
        }
      ]
    },
    {
      "cell_type": "code",
      "source": [
        "# realizando calculo usando as função np.dot\n",
        "\n",
        "reg_a = np.dot(regiaoA,pesos)\n",
        "reg_b = np.dot(regiaoB,pesos)\n",
        "reg_c = np.dot(regiaoC,pesos)\n",
        "reg_d = np.dot(regiaoD,pesos)\n",
        "\n",
        "print(f'A producao pro hectare na regiao A foi de: {reg_a} toneladas')\n",
        "print(f'A producao pro hectare na regiao B foi de: {reg_b} toneladas')\n",
        "print(f'A producao pro hectare na regiao C foi de: {reg_c} toneladas')\n",
        "print(f'A producao pro hectare na regiao D foi de: {reg_d} toneladas')"
      ],
      "metadata": {
        "colab": {
          "base_uri": "https://localhost:8080/"
        },
        "id": "0znQYDnoXdVx",
        "outputId": "5944f747-a394-44f7-b33f-d23d06c72a34"
      },
      "execution_count": null,
      "outputs": [
        {
          "output_type": "stream",
          "name": "stdout",
          "text": [
            "A producao pro hectare na regiao A foi de: 52.5 toneladas\n",
            "A producao pro hectare na regiao B foi de: 72.3 toneladas\n",
            "A producao pro hectare na regiao C foi de: 56.9 toneladas\n",
            "A producao pro hectare na regiao D foi de: 59.6 toneladas\n"
          ]
        }
      ]
    },
    {
      "cell_type": "code",
      "source": [
        "# Exemplos em Numpy\n",
        "\n",
        "#lista em python\n",
        "\n",
        "arr1 = list(range(2000000))\n",
        "arr2 = list(range(1000000,3000000))\n",
        "\n",
        "#vetor em Numpy\n",
        "\n",
        "arr1_np = np.array(arr1)\n",
        "arr2_np = np.array(arr2)\n",
        "\n"
      ],
      "metadata": {
        "id": "OdPKZvnYYVQe"
      },
      "execution_count": null,
      "outputs": []
    },
    {
      "cell_type": "code",
      "source": [
        "#teste de tempo realizando o calculo normal\n",
        "\n",
        "%%time\n",
        "\n",
        "result = 0\n",
        "for x1,x2 in zip(arr1,arr2):\n",
        "  result += x1 * x2\n",
        "print(result)"
      ],
      "metadata": {
        "colab": {
          "base_uri": "https://localhost:8080/"
        },
        "id": "bQfkQMPYYQ33",
        "outputId": "d53e2f5b-5985-405a-e51f-f81ba62671f0"
      },
      "execution_count": null,
      "outputs": [
        {
          "output_type": "stream",
          "name": "stdout",
          "text": [
            "4666663666667000000\n",
            "CPU times: user 773 ms, sys: 0 ns, total: 773 ms\n",
            "Wall time: 797 ms\n"
          ]
        }
      ]
    },
    {
      "cell_type": "code",
      "source": [
        "%%time\n",
        "print(np.dot(arr1_np, arr2_np))"
      ],
      "metadata": {
        "colab": {
          "base_uri": "https://localhost:8080/"
        },
        "id": "l_9C6XuvcRKJ",
        "outputId": "4496d777-d564-44ef-ca70-f797531fad23"
      },
      "execution_count": null,
      "outputs": [
        {
          "output_type": "stream",
          "name": "stdout",
          "text": [
            "4666663666667000000\n",
            "CPU times: user 5.83 ms, sys: 0 ns, total: 5.83 ms\n",
            "Wall time: 4.85 ms\n"
          ]
        }
      ]
    },
    {
      "cell_type": "code",
      "source": [
        "# matriz com dos dados climaticos\n",
        "\n",
        "dados_climaticos = np.array([[22,67,65],\n",
        "                            [24,88,95],\n",
        "                            [17,134,50],\n",
        "                            [18,96,70]])\n",
        "\n",
        "print(dados_climaticos)\n",
        "\n",
        "print(dados_climaticos.shape) # retorna o tamanho do array\n",
        "print(pesos.shape) # retorna o tamanho do array\n",
        "\n",
        "print(pesos.dtype) # retorna o tipo do valor\n",
        "print('---------------------------')\n",
        "print(dados_climaticos.dtype) # retorna o tipo do valor"
      ],
      "metadata": {
        "colab": {
          "base_uri": "https://localhost:8080/"
        },
        "id": "HL46m-IUd-n4",
        "outputId": "fb877159-fd50-4ed5-e4cb-e1455434f243"
      },
      "execution_count": null,
      "outputs": [
        {
          "output_type": "stream",
          "name": "stdout",
          "text": [
            "[[ 22  67  65]\n",
            " [ 24  88  95]\n",
            " [ 17 134  50]\n",
            " [ 18  96  70]]\n",
            "(4, 3)\n",
            "(3,)\n",
            "float64\n",
            "---------------------------\n",
            "int64\n"
          ]
        }
      ]
    },
    {
      "cell_type": "code",
      "source": [
        "#finalizando calculo da produção de goiaba em um unico calculo\n",
        "np.matmul(dados_climaticos,pesos)"
      ],
      "metadata": {
        "colab": {
          "base_uri": "https://localhost:8080/"
        },
        "id": "BZNMudxpeiN5",
        "outputId": "a01f4623-fa03-4b9b-8cc6-052dc841ceb8"
      },
      "execution_count": null,
      "outputs": [
        {
          "output_type": "execute_result",
          "data": {
            "text/plain": [
              "array([52.5, 72.3, 56.9, 59.6])"
            ]
          },
          "metadata": {},
          "execution_count": 67
        }
      ]
    },
    {
      "cell_type": "code",
      "source": [
        "#finalizando calculo da produção de goiaba em um unico calculo\n",
        "dados_climaticos @ pesos"
      ],
      "metadata": {
        "colab": {
          "base_uri": "https://localhost:8080/"
        },
        "id": "-CR5sLUrjUTi",
        "outputId": "5a4455ac-ed0d-448c-9a04-601c539ade60"
      },
      "execution_count": null,
      "outputs": [
        {
          "output_type": "execute_result",
          "data": {
            "text/plain": [
              "array([52.5, 72.3, 56.9, 59.6])"
            ]
          },
          "metadata": {},
          "execution_count": 68
        }
      ]
    },
    {
      "cell_type": "code",
      "source": [
        "# UTILIZANDO NUMPY PARA LER ARQUIVO CSV"
      ],
      "metadata": {
        "id": "mU7nlbPvN4dQ"
      },
      "execution_count": null,
      "outputs": []
    },
    {
      "cell_type": "code",
      "source": [
        "#importando a bliblioteca e arquivo csv sendo carregado para o collab.\n",
        "import pandas as pd\n",
        "from google import colab as cl\n",
        "\n",
        "file_upload = cl.files.upload()"
      ],
      "metadata": {
        "colab": {
          "base_uri": "https://localhost:8080/",
          "height": 73
        },
        "id": "bZSSEhR5Pr9Y",
        "outputId": "8b08589d-97a9-4ed4-9b98-51704012cfe7"
      },
      "execution_count": 16,
      "outputs": [
        {
          "output_type": "display_data",
          "data": {
            "text/plain": [
              "<IPython.core.display.HTML object>"
            ],
            "text/html": [
              "\n",
              "     <input type=\"file\" id=\"files-fdba6471-fce3-4646-9b1e-787a60bc2d31\" name=\"files[]\" multiple disabled\n",
              "        style=\"border:none\" />\n",
              "     <output id=\"result-fdba6471-fce3-4646-9b1e-787a60bc2d31\">\n",
              "      Upload widget is only available when the cell has been executed in the\n",
              "      current browser session. Please rerun this cell to enable.\n",
              "      </output>\n",
              "      <script>// Copyright 2017 Google LLC\n",
              "//\n",
              "// Licensed under the Apache License, Version 2.0 (the \"License\");\n",
              "// you may not use this file except in compliance with the License.\n",
              "// You may obtain a copy of the License at\n",
              "//\n",
              "//      http://www.apache.org/licenses/LICENSE-2.0\n",
              "//\n",
              "// Unless required by applicable law or agreed to in writing, software\n",
              "// distributed under the License is distributed on an \"AS IS\" BASIS,\n",
              "// WITHOUT WARRANTIES OR CONDITIONS OF ANY KIND, either express or implied.\n",
              "// See the License for the specific language governing permissions and\n",
              "// limitations under the License.\n",
              "\n",
              "/**\n",
              " * @fileoverview Helpers for google.colab Python module.\n",
              " */\n",
              "(function(scope) {\n",
              "function span(text, styleAttributes = {}) {\n",
              "  const element = document.createElement('span');\n",
              "  element.textContent = text;\n",
              "  for (const key of Object.keys(styleAttributes)) {\n",
              "    element.style[key] = styleAttributes[key];\n",
              "  }\n",
              "  return element;\n",
              "}\n",
              "\n",
              "// Max number of bytes which will be uploaded at a time.\n",
              "const MAX_PAYLOAD_SIZE = 100 * 1024;\n",
              "\n",
              "function _uploadFiles(inputId, outputId) {\n",
              "  const steps = uploadFilesStep(inputId, outputId);\n",
              "  const outputElement = document.getElementById(outputId);\n",
              "  // Cache steps on the outputElement to make it available for the next call\n",
              "  // to uploadFilesContinue from Python.\n",
              "  outputElement.steps = steps;\n",
              "\n",
              "  return _uploadFilesContinue(outputId);\n",
              "}\n",
              "\n",
              "// This is roughly an async generator (not supported in the browser yet),\n",
              "// where there are multiple asynchronous steps and the Python side is going\n",
              "// to poll for completion of each step.\n",
              "// This uses a Promise to block the python side on completion of each step,\n",
              "// then passes the result of the previous step as the input to the next step.\n",
              "function _uploadFilesContinue(outputId) {\n",
              "  const outputElement = document.getElementById(outputId);\n",
              "  const steps = outputElement.steps;\n",
              "\n",
              "  const next = steps.next(outputElement.lastPromiseValue);\n",
              "  return Promise.resolve(next.value.promise).then((value) => {\n",
              "    // Cache the last promise value to make it available to the next\n",
              "    // step of the generator.\n",
              "    outputElement.lastPromiseValue = value;\n",
              "    return next.value.response;\n",
              "  });\n",
              "}\n",
              "\n",
              "/**\n",
              " * Generator function which is called between each async step of the upload\n",
              " * process.\n",
              " * @param {string} inputId Element ID of the input file picker element.\n",
              " * @param {string} outputId Element ID of the output display.\n",
              " * @return {!Iterable<!Object>} Iterable of next steps.\n",
              " */\n",
              "function* uploadFilesStep(inputId, outputId) {\n",
              "  const inputElement = document.getElementById(inputId);\n",
              "  inputElement.disabled = false;\n",
              "\n",
              "  const outputElement = document.getElementById(outputId);\n",
              "  outputElement.innerHTML = '';\n",
              "\n",
              "  const pickedPromise = new Promise((resolve) => {\n",
              "    inputElement.addEventListener('change', (e) => {\n",
              "      resolve(e.target.files);\n",
              "    });\n",
              "  });\n",
              "\n",
              "  const cancel = document.createElement('button');\n",
              "  inputElement.parentElement.appendChild(cancel);\n",
              "  cancel.textContent = 'Cancel upload';\n",
              "  const cancelPromise = new Promise((resolve) => {\n",
              "    cancel.onclick = () => {\n",
              "      resolve(null);\n",
              "    };\n",
              "  });\n",
              "\n",
              "  // Wait for the user to pick the files.\n",
              "  const files = yield {\n",
              "    promise: Promise.race([pickedPromise, cancelPromise]),\n",
              "    response: {\n",
              "      action: 'starting',\n",
              "    }\n",
              "  };\n",
              "\n",
              "  cancel.remove();\n",
              "\n",
              "  // Disable the input element since further picks are not allowed.\n",
              "  inputElement.disabled = true;\n",
              "\n",
              "  if (!files) {\n",
              "    return {\n",
              "      response: {\n",
              "        action: 'complete',\n",
              "      }\n",
              "    };\n",
              "  }\n",
              "\n",
              "  for (const file of files) {\n",
              "    const li = document.createElement('li');\n",
              "    li.append(span(file.name, {fontWeight: 'bold'}));\n",
              "    li.append(span(\n",
              "        `(${file.type || 'n/a'}) - ${file.size} bytes, ` +\n",
              "        `last modified: ${\n",
              "            file.lastModifiedDate ? file.lastModifiedDate.toLocaleDateString() :\n",
              "                                    'n/a'} - `));\n",
              "    const percent = span('0% done');\n",
              "    li.appendChild(percent);\n",
              "\n",
              "    outputElement.appendChild(li);\n",
              "\n",
              "    const fileDataPromise = new Promise((resolve) => {\n",
              "      const reader = new FileReader();\n",
              "      reader.onload = (e) => {\n",
              "        resolve(e.target.result);\n",
              "      };\n",
              "      reader.readAsArrayBuffer(file);\n",
              "    });\n",
              "    // Wait for the data to be ready.\n",
              "    let fileData = yield {\n",
              "      promise: fileDataPromise,\n",
              "      response: {\n",
              "        action: 'continue',\n",
              "      }\n",
              "    };\n",
              "\n",
              "    // Use a chunked sending to avoid message size limits. See b/62115660.\n",
              "    let position = 0;\n",
              "    do {\n",
              "      const length = Math.min(fileData.byteLength - position, MAX_PAYLOAD_SIZE);\n",
              "      const chunk = new Uint8Array(fileData, position, length);\n",
              "      position += length;\n",
              "\n",
              "      const base64 = btoa(String.fromCharCode.apply(null, chunk));\n",
              "      yield {\n",
              "        response: {\n",
              "          action: 'append',\n",
              "          file: file.name,\n",
              "          data: base64,\n",
              "        },\n",
              "      };\n",
              "\n",
              "      let percentDone = fileData.byteLength === 0 ?\n",
              "          100 :\n",
              "          Math.round((position / fileData.byteLength) * 100);\n",
              "      percent.textContent = `${percentDone}% done`;\n",
              "\n",
              "    } while (position < fileData.byteLength);\n",
              "  }\n",
              "\n",
              "  // All done.\n",
              "  yield {\n",
              "    response: {\n",
              "      action: 'complete',\n",
              "    }\n",
              "  };\n",
              "}\n",
              "\n",
              "scope.google = scope.google || {};\n",
              "scope.google.colab = scope.google.colab || {};\n",
              "scope.google.colab._files = {\n",
              "  _uploadFiles,\n",
              "  _uploadFilesContinue,\n",
              "};\n",
              "})(self);\n",
              "</script> "
            ]
          },
          "metadata": {}
        },
        {
          "output_type": "stream",
          "name": "stdout",
          "text": [
            "Saving senai_ml_goiaba.csv to senai_ml_goiaba.csv\n"
          ]
        }
      ]
    },
    {
      "cell_type": "code",
      "source": [
        "goiaba = np.genfromtxt(\"senai_ml_goiaba.csv\", delimiter= \",\") # lendo o arquivo csv"
      ],
      "metadata": {
        "id": "xf5xcwrKP8JI"
      },
      "execution_count": 17,
      "outputs": []
    },
    {
      "cell_type": "code",
      "source": [
        "pesos = np.array([0.4,0.2,0.8]) # definindo os pesos\n"
      ],
      "metadata": {
        "id": "nuvbjwQ9QlVg"
      },
      "execution_count": 19,
      "outputs": []
    },
    {
      "cell_type": "code",
      "source": [
        "rendimento = goiaba @ pesos # realizando calculo com os pesos e os dados vindos do csv e realizando o print do resultado\n",
        "\n",
        "print(rendimento)"
      ],
      "metadata": {
        "colab": {
          "base_uri": "https://localhost:8080/"
        },
        "id": "ybphQXc8RGju",
        "outputId": "bf150abe-4ec1-4bff-9ce7-be8dda496be4"
      },
      "execution_count": 22,
      "outputs": [
        {
          "output_type": "stream",
          "name": "stdout",
          "text": [
            "[30.4 24.6 42.4]\n"
          ]
        }
      ]
    },
    {
      "cell_type": "code",
      "source": [
        "# incluindo a coluna com  o resultado na regiao do array e printando\n",
        "\n",
        "resultado = np.concatenate((goiaba, rendimento.reshape(3,1)), axis=1)\n",
        "\n",
        "print(resultado)"
      ],
      "metadata": {
        "colab": {
          "base_uri": "https://localhost:8080/"
        },
        "id": "A0W0QYlbRSEG",
        "outputId": "fb71cba6-9449-4fff-f60c-4d8adc9596d1"
      },
      "execution_count": 24,
      "outputs": [
        {
          "output_type": "stream",
          "name": "stdout",
          "text": [
            "[[24.  20.  21.  30.4]\n",
            " [18.  23.  16.  24.6]\n",
            " [19.  30.  36.  42.4]]\n"
          ]
        }
      ]
    },
    {
      "cell_type": "code",
      "source": [
        "#salvando o arquivo com o resultado  em csv\n",
        "\n",
        "\n",
        "np.savetxt(\n",
        "    'resultado_goiaba.csv',\n",
        "    resultado,\n",
        "    fmt = '%.2f',\n",
        "    delimiter = ',',\n",
        "    header='temperatura,precipitação,umidade,rendimento',\n",
        "    comments = '')"
      ],
      "metadata": {
        "collapsed": true,
        "id": "jrtNeWf6TSgj"
      },
      "execution_count": 32,
      "outputs": []
    }
  ]
}